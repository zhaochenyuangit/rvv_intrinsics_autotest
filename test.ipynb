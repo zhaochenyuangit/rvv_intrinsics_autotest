{
 "cells": [
  {
   "cell_type": "code",
   "execution_count": 1,
   "id": "96a224da",
   "metadata": {},
   "outputs": [],
   "source": [
    "import os \n",
    "import re\n",
    "from random import randint, random\n",
    "from textwrap import dedent"
   ]
  },
  {
   "cell_type": "code",
   "execution_count": 2,
   "id": "c5ef165d",
   "metadata": {},
   "outputs": [],
   "source": [
    "import numpy as np\n",
    "from math import ceil"
   ]
  },
  {
   "cell_type": "code",
   "execution_count": 171,
   "id": "dca7bdf2",
   "metadata": {},
   "outputs": [],
   "source": [
    "DOC_PATH = os.path.join('..','rvv-intrinsic-doc-master','intrinsic_funcs')\n",
    "VLEN = 128\n",
    "\n",
    "def random_line():\n",
    "    md_files = os.listdir(DOC_PATH)\n",
    "    filename = [f for f in md_files if f.startswith(\"07\")][0]\n",
    "    filename = os.path.join(DOC_PATH,filename)\n",
    "    filesize = os.stat(filename).st_size\n",
    "    with open(filename,'r') as f:\n",
    "        ret = \"\"\n",
    "        while not re.findall(';\\s+$',ret):\n",
    "            file_pointer = randint(0,filesize)\n",
    "            f.seek(file_pointer)\n",
    "            f.readline()\n",
    "            ret =  f.readline()\n",
    "        return ret"
   ]
  },
  {
   "cell_type": "code",
   "execution_count": 258,
   "id": "fbb767fe",
   "metadata": {},
   "outputs": [],
   "source": [
    "class RvvType():\n",
    "    SIZE_DICT = {'mf8':1/8,'mf4':1/4,'mf2':1/2,'m1':1,'m2':2,'m4':4,'m8':8,}\n",
    "    attr = ['basetype','sew','lmul','vl','bytesize','abbr']\n",
    "    def __init__(self, string):\n",
    "        if not string.startswith('v'):\n",
    "            raise RuntimeError(\"%s not a rvv type\" %string)        \n",
    "        self.string = string\n",
    "        self._parse()\n",
    "        assert all([getattr(self,attr,None) for attr in self.attr]), \"not all attr defined\"\n",
    "        \n",
    "    def __eq__(self,other):\n",
    "        return self.string == other.string\n",
    "    def __hash__(self):\n",
    "        return hash(self.string)\n",
    "    \n",
    "    def __repr__(self):\n",
    "        dtype = 'rvv vector type %s:\\n' %self.string\n",
    "        attrs = '\\n'.join([name+':'+ str(getattr(self,name,None)) for name in self.attr])\n",
    "        return dtype+attrs\n",
    "        \n",
    "    def _abbr_rule(self,match):\n",
    "        dtype = match.group(0)\n",
    "        if dtype=='uint':\n",
    "            return 'u'\n",
    "        elif dtype=='int':\n",
    "            return 'i'\n",
    "        elif dtype=='float':\n",
    "            return 'f'     \n",
    "        \n",
    "    def _parse(self):\n",
    "        match = re.search('(?P<basetype>(u?int\\d+)|(float\\d+))(?P<lmul>mf?\\d)',self.string)\n",
    "        self.lmul = lmul = match.group('lmul')\n",
    "        regsize = self.SIZE_DICT.get(lmul)*VLEN\n",
    "        regsize = int(regsize)\n",
    "        self.bytesize = regsize//8\n",
    "        basetype = match.group('basetype')\n",
    "        self.abbr = re.sub('(?P<match>(u?int)|(float))',self._abbr_rule,basetype)+lmul\n",
    "        self.basetype = basetype+'_t'\n",
    "        self.sew = basesize = re.search('(?P<size>\\d+)',basetype).group('size')\n",
    "        self.vl = int(regsize)//int(basesize)\n",
    "    \n",
    "    @property\n",
    "    def declare(self):\n",
    "        return dedent('''\\\n",
    "        {basetype} *{{op}}_base = ({basetype}*){{addr}};\n",
    "        '''.format(basetype=self.basetype))   \n",
    "    \n",
    "    @property\n",
    "    def context(self):\n",
    "        return dedent('''\\\n",
    "        {} {{op}} = vle{}_v_{}({{op}}_base,{});\n",
    "        '''.format(self.string, self.sew, self.abbr,self.vl))\n",
    "    \n",
    "    @property\n",
    "    def post_context(self):\n",
    "        return dedent('''\\\n",
    "        vse{}_v_{}({{op}}_base,{{op}},{});\n",
    "        '''.format(self.sew, self.abbr,self.vl))"
   ]
  },
  {
   "cell_type": "code",
   "execution_count": 259,
   "id": "235d9d1d",
   "metadata": {},
   "outputs": [],
   "source": [
    "class RvvBool(RvvType):\n",
    "    LMUL_DICT = {v:k for k,v in RvvType.SIZE_DICT.items()}\n",
    "    attr = ['basetype','n','vl','bytesize','abbr']\n",
    "    def __init__(self,string):\n",
    "        RvvType.__init__(self,string)\n",
    "        \n",
    "    def _parse(self):\n",
    "        self.n = n = re.search('(?P<n>\\d+)',self.string).group('n')\n",
    "        self.abbr = 'b%s' %n\n",
    "        self.vl = vlmax = VLEN//int(n)\n",
    "        self.bytesize = vlmax//8 + int((vlmax%8)!=0)\n",
    "        self.basetype = 'uint8_t'\n",
    "        self.sew = 1\n",
    "        self.lmul = 1\n",
    "    \n",
    "    @property\n",
    "    def context(self):\n",
    "        lmul = self.vl*8/VLEN\n",
    "        lmul = self.LMUL_DICT[lmul]\n",
    "        return dedent('''\\\n",
    "        {vbool_t} {{op}} = vle1_v_b{n}({{op}}_base,{vl});   \n",
    "        uint8{lmul}_t vec_{{op}} = vmv_v_x_u8{lmul}(0,{vl});\n",
    "        vec_{{op}} = vmerge_vxm({{op}},vec_{{op}},1,{vl});\n",
    "        _Bool {{op}}_bool[{vl}];\n",
    "        vse8_v_u8{lmul}({{op}}_bool,vec_{{op}},{vl});\n",
    "        '''.format(lmul=lmul,vl=self.vl,vbool_t = self.string,n=self.n))\n",
    "    \n",
    "    @property\n",
    "    def post_context(self):\n",
    "        lmul = self.vl*8/VLEN\n",
    "        lmul = self.LMUL_DICT[lmul]\n",
    "        return dedent('''\\\n",
    "        vuint8{lmul}_t vec_{{op}} = vmv_v_x_u8{lmul}(0,{vl});\n",
    "        vec_{{op}} = vmerge_vxm_u8{lmul}({{op}},vec_{{op}},1,{vl});\n",
    "        vse8_v_u8{lmul}({{op}}_base,vec_{{op}},{vl});\n",
    "        '''.format(lmul=lmul,vl=self.vl,vbool_t = self.string,n=self.n))\n",
    "    "
   ]
  },
  {
   "cell_type": "code",
   "execution_count": 260,
   "id": "d43eb6c9",
   "metadata": {},
   "outputs": [],
   "source": [
    "class ScalarType():\n",
    "    TYPEDEF = {'size_t':'uint32_t',}\n",
    "    def __init__(self,string):\n",
    "        if string.startswith('v'):\n",
    "            raise RuntimeError(\"%s is not a scalar type\" %string)\n",
    "        self.string = string\n",
    "        self.basetype = string\n",
    "        self.alias = self.TYPEDEF.get(string,string)\n",
    "        self.bytesize = self._sizeof(self.alias)\n",
    "        self.attr = ['bytesize','alias']\n",
    "        \n",
    "    def __repr__(self):\n",
    "        dtype = 'scalar type %s:\\n' %self.string\n",
    "        attrs = '\\n'.join([name+':'+ str(getattr(self,name,None)) for name in self.attr])\n",
    "        return dtype+attrs\n",
    "    \n",
    "    def _sizeof(self,typename):\n",
    "        return np.dtype(typename.rstrip('_t')).itemsize\n",
    "    \n",
    "    @property\n",
    "    def declare(self):\n",
    "        return dedent('''\\\n",
    "        {dtype} *{{op}}_base = ({dtype}*){{addr}};\n",
    "        '''.format(dtype=self.string))\n",
    "    @property\n",
    "    def context(self):\n",
    "        return dedent('''\\\n",
    "        {dtype} {{op}} = *{{op}}_base;\n",
    "        '''.format(dtype=self.string))"
   ]
  },
  {
   "cell_type": "code",
   "execution_count": 261,
   "id": "8d6afd40",
   "metadata": {},
   "outputs": [],
   "source": [
    "def parse_dtype(dtype:str):\n",
    "    if dtype.startswith('vbool'):\n",
    "        return RvvBool(dtype)\n",
    "    elif dtype.startswith('v'):\n",
    "        return RvvType(dtype)\n",
    "    else:\n",
    "        return ScalarType(dtype)\n",
    "    \n",
    "def parse_declaration(line):\n",
    "    ret, func, rest_of_line = line.split(\" \", 2)\n",
    "    match = re.search('(?P<ops>(?<=\\().+(?=\\)))',rest_of_line)\n",
    "    op_pairs = match.group('ops').split(',')\n",
    "    op_pairs = [op.split() for op in op_pairs]\n",
    "    operands = {arg:dtype for dtype,arg in op_pairs}\n",
    "    #return {'ret':ret,'func':func,'ops':operands}\n",
    "    return [ret,func,operands]"
   ]
  },
  {
   "cell_type": "code",
   "execution_count": 262,
   "id": "f7d255dc",
   "metadata": {},
   "outputs": [
    {
     "data": {
      "text/plain": [
       "'vfloat16mf2_t vfcvt_f_x_v_f16mf2 (vint16mf2_t src, size_t vl);\\n'"
      ]
     },
     "execution_count": 262,
     "metadata": {},
     "output_type": "execute_result"
    }
   ],
   "source": [
    "line = random_line()\n",
    "line"
   ]
  },
  {
   "cell_type": "code",
   "execution_count": 263,
   "id": "de8db600",
   "metadata": {},
   "outputs": [],
   "source": [
    "line = 'vbool16_t vmadc_vx_u16m1_b16 (vuint16m1_t op1, uint16_t op2, size_t vl);'"
   ]
  },
  {
   "cell_type": "code",
   "execution_count": 264,
   "id": "4efc431c",
   "metadata": {},
   "outputs": [],
   "source": [
    "ret_name,func_name,ops_name = parse_declaration(line)"
   ]
  },
  {
   "cell_type": "code",
   "execution_count": 306,
   "id": "f5fcd8cd",
   "metadata": {},
   "outputs": [],
   "source": [
    "class AddrDispensor():\n",
    "    def __init__(self,addr_begin:int):\n",
    "        self.begin = addr_begin\n",
    "        self.addr = addr_begin\n",
    "        \n",
    "    def get_addr(self,len_btye):\n",
    "        assert (len_btye>0), 'addr increment cannot <=0'\n",
    "        addr = self.addr\n",
    "        self.addr += len_btye\n",
    "        self.addr = ceil(self.addr/8)*8\n",
    "        return addr\n",
    "    def get_begin(self):\n",
    "        return self.begin\n",
    "    def get_lenb(self):\n",
    "        return self.addr - self.begin"
   ]
  },
  {
   "cell_type": "code",
   "execution_count": 307,
   "id": "ca497b29",
   "metadata": {},
   "outputs": [],
   "source": [
    "ad = AddrDispensor(0x2000)"
   ]
  },
  {
   "cell_type": "code",
   "execution_count": 308,
   "id": "1c7a18c6",
   "metadata": {},
   "outputs": [],
   "source": [
    "ret = parse_dtype(ret_name)\n",
    "str_declare = ''\n",
    "str_context = ''\n",
    "str_post_context = ''\n",
    "str_declare += dedent('''\\\n",
    "    {dtype} *golden_base = ({dtype}*){addr_g};\n",
    "    {dtype} *actual_base = ({dtype}*){addr_a};\n",
    "    '''.format(dtype=ret.basetype,\n",
    "               addr_g=ad.get_addr(ret.bytesize),\n",
    "               addr_a=ad.get_addr(ret.bytesize)))\n",
    "str_post_context += ret.post_context.format(op='actual')"
   ]
  },
  {
   "cell_type": "code",
   "execution_count": 309,
   "id": "afee9859",
   "metadata": {},
   "outputs": [],
   "source": [
    "for name,dtype in ops_name.items():\n",
    "    dtype = parse_dtype(dtype)\n",
    "    str_declare += dtype.declare.format(op=name,addr=ad.get_addr(dtype.bytesize))\n",
    "    str_context += dtype.context.format(op=name)"
   ]
  },
  {
   "cell_type": "code",
   "execution_count": 310,
   "id": "61ffcd8e",
   "metadata": {},
   "outputs": [],
   "source": [
    "v_op = ' '.join([ret_name , 'actual=' , func_name ,'(' , ', '.join(ops_name) , ');'])"
   ]
  },
  {
   "cell_type": "code",
   "execution_count": 313,
   "id": "196be540",
   "metadata": {},
   "outputs": [
    {
     "name": "stdout",
     "output_type": "stream",
     "text": [
      "\n",
      "#include \"string.h\"\n",
      "#include \"riscv_vector.h\"\n",
      "#include \"random.h\"\n",
      "int main(){\n",
      "/*** DECLARE ***/\n",
      "uint8_t *golden_base = (uint8_t*)8192;\n",
      "uint8_t *actual_base = (uint8_t*)8200;\n",
      "uint16_t *op1_base = (uint16_t*)8208;\n",
      "uint16_t *op2_base = (uint16_t*)8224;\n",
      "size_t *vl_base = (size_t*)8232;\n",
      "\n",
      "gen_random_mem(8192,48);\n",
      "/*** CONTEXT ***/\n",
      "vuint16m1_t op1 = vle16_v_u16m1(op1_base,8);\n",
      "uint16_t op2 = *op2_base;\n",
      "size_t vl = *vl_base;\n",
      "\n",
      "/***vector operation***/\n",
      "vbool16_t actual= vmadc_vx_u16m1_b16 ( op1, op2, vl );\n",
      "/***POST CONTEXT***/\n",
      "vuint8mf2_t vec_actual = vmv_v_x_u8mf2(0,8);\n",
      "vec_actual = vmerge_vxm_u8mf2(actual,vec_actual,1,8);\n",
      "vse8_v_u8mf2(actual_base,vec_actual,8);\n",
      "\n",
      "return 0;\n",
      "}\n",
      "\n"
     ]
    }
   ],
   "source": [
    "RANMEM_TEMPLATE=dedent('''\\\n",
    "    void gen_random_mem(size_t mem_start, size_t n){\n",
    "        uint8_t *mem = (uint8_t*)mem_start;\n",
    "        for(int i=0;i<n;i++){\n",
    "            mem[i] = rand();\n",
    "        }\n",
    "    }\n",
    "    ''')\n",
    "C_TEMPLATE=dedent('''\n",
    "    #include \"string.h\"\n",
    "    #include \"riscv_vector.h\"\n",
    "    #include \"random.h\"\n",
    "    int main(){{\n",
    "    /*** DECLARE ***/\n",
    "    {0}\n",
    "    gen_random_mem({ad_begin},{lenb});\n",
    "    /*** CONTEXT ***/\n",
    "    {1}\n",
    "    /***vector operation***/\n",
    "    {2}\n",
    "    /***POST CONTEXT***/\n",
    "    {3}\n",
    "    return 0;\n",
    "    }}\n",
    "    ''')\n",
    "print(C_TEMPLATE.format(str_declare,str_context,v_op,str_post_context,ad_begin=ad.get_begin(),lenb=ad.get_lenb()))"
   ]
  },
  {
   "cell_type": "code",
   "execution_count": 314,
   "id": "557dc6ca",
   "metadata": {},
   "outputs": [
    {
     "data": {
      "text/plain": [
       "'vmadc_vx_u16m1_b16'"
      ]
     },
     "execution_count": 314,
     "metadata": {},
     "output_type": "execute_result"
    }
   ],
   "source": [
    "func_name"
   ]
  },
  {
   "cell_type": "code",
   "execution_count": 220,
   "id": "47b7ac6d",
   "metadata": {},
   "outputs": [
    {
     "data": {
      "text/plain": [
       "rvv vector type vuint16m1_t:\n",
       "basetype:uint16_t\n",
       "sew:16\n",
       "lmul:m1\n",
       "vl:8\n",
       "bytesize:16\n",
       "abbr:u16m1"
      ]
     },
     "execution_count": 220,
     "metadata": {},
     "output_type": "execute_result"
    }
   ],
   "source": [
    "parse_dtype(ops_name['op1'])"
   ]
  },
  {
   "cell_type": "code",
   "execution_count": 221,
   "id": "6ed091b7",
   "metadata": {},
   "outputs": [],
   "source": [
    "TEMPLATE_SCALAR_VMADC=dedent('''\\\n",
    "    size_t bitwidth = sizeof(op2)*8;\n",
    "    for(int i=0;i<{vl};i++){{\n",
    "        {basetype} op1 = op1_base[i];\n",
    "        {basetype} sum = op1_base[i] + op2; \n",
    "        golden_base[i] = (sum^(op1&op2))>>(bitwidth-1);\n",
    "    }}''')"
   ]
  },
  {
   "cell_type": "code",
   "execution_count": 169,
   "id": "5cf0cd6b",
   "metadata": {},
   "outputs": [
    {
     "name": "stdout",
     "output_type": "stream",
     "text": [
      "size_t bitwidth = sizeof(op2)*8;\n",
      "for(int i=0;i<{vl};i++){{\n",
      "    {basetype} op1 = op1_base[i];\n",
      "    {basetype} sum = op1_base[i] + op2; \n",
      "    golden_base[i] = (sum^(op1&op2))>>(bitwidth-1);\n",
      "}}\n"
     ]
    }
   ],
   "source": [
    "print(TEMPLATE_SCALAR_VMADC)"
   ]
  },
  {
   "cell_type": "code",
   "execution_count": 271,
   "id": "71f35d25",
   "metadata": {},
   "outputs": [
    {
     "name": "stdout",
     "output_type": "stream",
     "text": [
      "size_t bitwidth = sizeof(op2)*8;\n",
      "for(int i=0;i<10;i++){\n",
      "    uint16_t op1 = op1_base[i];\n",
      "    uint16_t sum = op1_base[i] + op2; \n",
      "    golden_base[i] = (sum^(op1&op2))>>(bitwidth-1);\n",
      "}\n"
     ]
    }
   ],
   "source": [
    "print(TEMPLATE_SCALAR_VMADC.format(basetype=eval(\"ops_name['op2']\"),vl=10))"
   ]
  },
  {
   "cell_type": "code",
   "execution_count": null,
   "id": "1d7758a2",
   "metadata": {},
   "outputs": [],
   "source": []
  }
 ],
 "metadata": {
  "kernelspec": {
   "display_name": "Python 3",
   "language": "python",
   "name": "python3"
  },
  "language_info": {
   "codemirror_mode": {
    "name": "ipython",
    "version": 3
   },
   "file_extension": ".py",
   "mimetype": "text/x-python",
   "name": "python",
   "nbconvert_exporter": "python",
   "pygments_lexer": "ipython3",
   "version": "3.6.9"
  }
 },
 "nbformat": 4,
 "nbformat_minor": 5
}
