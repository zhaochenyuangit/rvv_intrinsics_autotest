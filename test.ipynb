{
 "cells": [
  {
   "cell_type": "code",
   "execution_count": 86,
   "id": "96a224da",
   "metadata": {},
   "outputs": [],
   "source": [
    "import os \n",
    "import re\n",
    "import datetime\n",
    "from random import randint, random\n",
    "import readline\n",
    "from time import sleep\n",
    "import json\n",
    "from textwrap import dedent"
   ]
  },
  {
   "cell_type": "code",
   "execution_count": 409,
   "id": "c5ef165d",
   "metadata": {},
   "outputs": [],
   "source": [
    "import numpy as np\n",
    "from math import ceil"
   ]
  },
  {
   "cell_type": "code",
   "execution_count": 533,
   "id": "dca7bdf2",
   "metadata": {},
   "outputs": [],
   "source": [
    "DOC_PATH = os.path.join('..','rvv-intrinsic-doc-master','intrinsic_funcs')\n",
    "VLEN = 128\n",
    "\n",
    "def random_line():\n",
    "    md_files = os.listdir(DOC_PATH)\n",
    "    filename = [f for f in md_files if f.startswith(\"05\")][0]\n",
    "    filename = os.path.join(DOC_PATH,filename)\n",
    "    filesize = os.stat(filename).st_size\n",
    "    with open(filename,'r') as f:\n",
    "        ret = \"\"\n",
    "        while not re.findall(';\\s+$',ret):\n",
    "            file_pointer = randint(0,filesize)\n",
    "            f.seek(file_pointer)\n",
    "            f.readline()\n",
    "            ret =  f.readline()\n",
    "        return ret"
   ]
  },
  {
   "cell_type": "code",
   "execution_count": 786,
   "id": "fbb767fe",
   "metadata": {},
   "outputs": [],
   "source": [
    "class RvvType():\n",
    "    SIZE_DICT = {'mf8':1/8,'mf4':1/4,'mf2':1/2,'m1':1,'m2':2,'m4':4,'m8':8,}\n",
    "    attr = ['basetype','sew','lmul','vl','bytesize','abbr']\n",
    "    def __init__(self, string):\n",
    "        if not string.startswith('v'):\n",
    "            raise RuntimeError(\"%s not a rvv type\" %string)        \n",
    "        self.string = string\n",
    "        self._parse()\n",
    "        assert all([getattr(self,attr,None) for attr in self.attr]), \"not all attr defined\"\n",
    "        \n",
    "    def __eq__(self,other):\n",
    "        return self.string == other.string\n",
    "    def __hash__(self):\n",
    "        return hash(self.string)\n",
    "    \n",
    "    def __repr__(self):\n",
    "        dtype = 'rvv vector type %s:\\n' %self.string\n",
    "        attrs = '\\n'.join([name+':'+ str(getattr(self,name,None)) for name in self.attr])\n",
    "        return dtype+attrs\n",
    "        \n",
    "    def _abbr_rule(self,match):\n",
    "        dtype = match.group(0)\n",
    "        if dtype=='uint':\n",
    "            return 'u'\n",
    "        elif dtype=='int':\n",
    "            return 'i'\n",
    "        elif dtype=='float':\n",
    "            return 'f'     \n",
    "        \n",
    "    def _parse(self):\n",
    "        match = re.search('(?P<basetype>(u?int\\d+)|(float\\d+))(?P<lmul>mf?\\d)',self.string)\n",
    "        self.lmul = lmul = match.group('lmul')\n",
    "        regsize = self.SIZE_DICT.get(lmul)*VLEN\n",
    "        regsize = int(regsize)\n",
    "        self.bytesize = regsize//8\n",
    "        basetype = match.group('basetype')\n",
    "        self.abbr = re.sub('(?P<match>(u?int)|(float))',self._abbr_rule,basetype)+lmul\n",
    "        self.basetype = basetype+'_t'\n",
    "        self.sew = basesize = re.search('(?P<size>\\d+)',basetype).group('size')\n",
    "        self.vl = int(regsize)//int(basesize)\n",
    "    \n",
    "    @property\n",
    "    def declare(self):\n",
    "        return dedent('''\\\n",
    "        {basetype} *{{op}}_base = ({basetype}*){{addr}};\n",
    "        '''.format(basetype=self.basetype))   \n",
    "    \n",
    "    @property\n",
    "    def context(self):\n",
    "        return dedent('''\\\n",
    "        //context for {{op}}\n",
    "        {} {{op}} = vle{}_v_{}({{op}}_base,{});\n",
    "        '''.format(self.string, self.sew, self.abbr,self.vl))\n",
    "     "
   ]
  },
  {
   "cell_type": "code",
   "execution_count": 787,
   "id": "235d9d1d",
   "metadata": {},
   "outputs": [],
   "source": [
    "class RvvBool(RvvType):\n",
    "    LMUL_DICT = {v:k for k,v in RvvType.SIZE_DICT.items()}\n",
    "    attr = ['basetype','n','vl','bytesize','abbr']\n",
    "    def __init__(self,string):\n",
    "        RvvType.__init__(self,string)\n",
    "        \n",
    "    def _parse(self):\n",
    "        self.n = n = re.search('(?P<n>\\d+)',self.string).group('n')\n",
    "        self.abbr = 'b%s' %n\n",
    "        self.vl = vlmax = VLEN//int(n)\n",
    "        self.bytesize = vlmax//8 + int((vlmax%8)!=0)\n",
    "        self.basetype = 'uint8_t'\n",
    "    \n",
    "    @property\n",
    "    def context(self):\n",
    "        lmul = self.vl*8/VLEN\n",
    "        lmul = self.LMUL_DICT[lmul]\n",
    "        return dedent('''\\\n",
    "        //context for {{op}}\n",
    "        {vbool_t} {{op}} = vlm_v_b{n}({{op}}_base,{vl});   \n",
    "        uint8{lmul}_t vec_{{op}} = vmv_v_x_u8{lmul}(0,{vl});\n",
    "        vec_{{op}} = vmerge_vxm({{op}},vec_{{op}},1,{vl});\n",
    "        _Bool {{op}}_bool[{vl}];\n",
    "        vse8_v_u8{lmul}({{op}}_bool,vec_{{op}},{vl});\n",
    "        '''.format(lmul=lmul,vl=self.vl,vbool_t = self.string,n=self.n))\n",
    "    "
   ]
  },
  {
   "cell_type": "code",
   "execution_count": 795,
   "id": "d43eb6c9",
   "metadata": {},
   "outputs": [],
   "source": [
    "class ScalarType():\n",
    "    TYPEDEF = {'size_t':'uint32_t',}\n",
    "    def __init__(self,string):\n",
    "        if string.startswith('v'):\n",
    "            raise RuntimeError(\"%s is not a scalar type\" %string)\n",
    "        self.string = string\n",
    "        self.basetype = string\n",
    "        self.alias = self.TYPEDEF.get(string,string)\n",
    "        self.bytesize = self._sizeof(self.alias)\n",
    "        self.attr = ['bytesize','alias']\n",
    "        \n",
    "    def __repr__(self):\n",
    "        dtype = 'scalar type %s:\\n' %self.string\n",
    "        attrs = '\\n'.join([name+':'+ str(getattr(self,name,None)) for name in self.attr])\n",
    "        return dtype+attrs\n",
    "    \n",
    "    def _sizeof(self,typename):\n",
    "        return np.dtype(typename.rstrip('_t')).itemsize\n",
    "    \n",
    "    @property\n",
    "    def declare(self):\n",
    "        return dedent('''\\\n",
    "        {dtype} *{{op}} = ({dtype}*){{addr}};\n",
    "        '''.format(dtype=self.string))\n",
    "    @property\n",
    "    def context(self):\n",
    "        return \"//nocontext for {op}\\n\""
   ]
  },
  {
   "cell_type": "code",
   "execution_count": 788,
   "id": "8d6afd40",
   "metadata": {},
   "outputs": [],
   "source": [
    "def parse_dtype(dtype:str):\n",
    "    if dtype.startswith('vbool'):\n",
    "        return RvvBool(dtype)\n",
    "    elif dtype.startswith('v'):\n",
    "        return RvvType(dtype)\n",
    "    else:\n",
    "        return ScalarType(dtype)\n",
    "    \n",
    "def parse_declaration(line):\n",
    "    ret, func, rest_of_line = line.split(\" \", 2)\n",
    "    match = re.search('(?P<ops>(?<=\\().+(?=\\)))',rest_of_line)\n",
    "    op_pairs = match.group('ops').split(',')\n",
    "    op_pairs = [op.split() for op in op_pairs]\n",
    "    operands = {arg:dtype for dtype,arg in op_pairs}\n",
    "    #return {'ret':ret,'func':func,'ops':operands}\n",
    "    return [ret,func,operands]"
   ]
  },
  {
   "cell_type": "code",
   "execution_count": 810,
   "id": "f7d255dc",
   "metadata": {},
   "outputs": [
    {
     "data": {
      "text/plain": [
       "'vbool8_t vmseq_vv_u32m4_b8 (vuint32m4_t op1, vuint32m4_t op2, size_t vl);\\n'"
      ]
     },
     "execution_count": 810,
     "metadata": {},
     "output_type": "execute_result"
    }
   ],
   "source": [
    "line = random_line()\n",
    "line"
   ]
  },
  {
   "cell_type": "code",
   "execution_count": 811,
   "id": "4efc431c",
   "metadata": {},
   "outputs": [],
   "source": [
    "ret,func,ops = parse_declaration(line)"
   ]
  },
  {
   "cell_type": "code",
   "execution_count": 812,
   "id": "f5fcd8cd",
   "metadata": {},
   "outputs": [],
   "source": [
    "class AddrDispensor():\n",
    "    def __init__(self,addr_begin:int):\n",
    "        self.begin = addr_begin\n",
    "        self.addr = addr_begin\n",
    "        \n",
    "    def get_addr(self,len_btye):\n",
    "        assert (len_btye>0), 'addr increment cannot <=0'\n",
    "        addr = self.addr\n",
    "        self.addr += len_btye\n",
    "        self.addr = ceil(self.addr/8)*8\n",
    "        return addr"
   ]
  },
  {
   "cell_type": "code",
   "execution_count": 813,
   "id": "ca497b29",
   "metadata": {},
   "outputs": [],
   "source": [
    "ad = AddrDispensor(0x2000)"
   ]
  },
  {
   "cell_type": "code",
   "execution_count": 814,
   "id": "1c7a18c6",
   "metadata": {},
   "outputs": [],
   "source": [
    "ret = parse_dtype(ret)\n",
    "str_declare = ''\n",
    "str_context = ''\n",
    "str_declare += dedent('''\\\n",
    "    {dtype} *golden = ({dtype}*){addr_g};\n",
    "    {dtype} *actual = ({dtype}*){addr_a};\n",
    "    '''.format(dtype=ret.basetype,\n",
    "               addr_g=addr.get_addr(ret.bytesize),\n",
    "               addr_a=addr.get_addr(ret.bytesize)))\n",
    "str_context += ret.context.format(op='vec_actual')"
   ]
  },
  {
   "cell_type": "code",
   "execution_count": 815,
   "id": "afee9859",
   "metadata": {},
   "outputs": [],
   "source": [
    "for name,dtype in ops.items():\n",
    "    dtype = parse_dtype(dtype)\n",
    "    str_declare += dtype.declare.format(op=name,addr=ad.get_addr(dtype.bytesize))\n",
    "    str_context += dtype.context.format(op=name)\n"
   ]
  },
  {
   "cell_type": "code",
   "execution_count": 816,
   "id": "a63b6fae",
   "metadata": {},
   "outputs": [
    {
     "name": "stdout",
     "output_type": "stream",
     "text": [
      "vbool8_t vmseq_vv_u32m4_b8 (vuint32m4_t op1, vuint32m4_t op2, size_t vl);\n",
      "\n",
      "uint8_t *golden = (uint8_t*)8912;\n",
      "uint8_t *actual = (uint8_t*)8920;\n",
      "uint32_t *op1_base = (uint32_t*)8192;\n",
      "uint32_t *op2_base = (uint32_t*)8256;\n",
      "size_t *vl = (size_t*)8320;\n",
      "\n",
      "//context for vec_actual\n",
      "vbool8_t vec_actual = vlm_v_b8(vec_actual_base,16);   \n",
      "uint8m1_t vec_vec_actual = vmv_v_x_u8m1(0,16);\n",
      "vec_vec_actual = vmerge_vxm(vec_actual,vec_vec_actual,1,16);\n",
      "_Bool vec_actual_bool[16];\n",
      "vse8_v_u8m1(vec_actual_bool,vec_vec_actual,16);\n",
      "//context for op1\n",
      "vuint32m4_t op1 = vle32_v_u32m4(op1_base,16);\n",
      "//context for op2\n",
      "vuint32m4_t op2 = vle32_v_u32m4(op2_base,16);\n",
      "//nocontext for vl\n",
      "\n"
     ]
    }
   ],
   "source": [
    "print(line)\n",
    "print(str_declare)\n",
    "print(str_context)"
   ]
  },
  {
   "cell_type": "code",
   "execution_count": 820,
   "id": "196be540",
   "metadata": {},
   "outputs": [
    {
     "name": "stdout",
     "output_type": "stream",
     "text": [
      "\n",
      "#include \"string.h\"\n",
      "#include \"riscv_vector.h\"\n",
      "int main(){\n",
      "    uint8_t *golden = (uint8_t*)8912;\n",
      "uint8_t *actual = (uint8_t*)8920;\n",
      "uint32_t *op1_base = (uint32_t*)8192;\n",
      "uint32_t *op2_base = (uint32_t*)8256;\n",
      "size_t *vl = (size_t*)8320;\n",
      "//context for vec_actual\n",
      "vbool8_t vec_actual = vlm_v_b8(vec_actual_base,16);   \n",
      "uint8m1_t vec_vec_actual = vmv_v_x_u8m1(0,16);\n",
      "vec_vec_actual = vmerge_vxm(vec_actual,vec_vec_actual,1,16);\n",
      "_Bool vec_actual_bool[16];\n",
      "vse8_v_u8m1(vec_actual_bool,vec_vec_actual,16);\n",
      "//context for op1\n",
      "vuint32m4_t op1 = vle32_v_u32m4(op1_base,16);\n",
      "//context for op2\n",
      "vuint32m4_t op2 = vle32_v_u32m4(op2_base,16);\n",
      "//nocontext for vl\n",
      "vmseq_vv_u32m4_b8\n",
      "    return 0;\n",
      "}\n",
      "\n"
     ]
    }
   ],
   "source": [
    "C_TEMPLATE=dedent('''\n",
    "    #include \"string.h\"\n",
    "    #include \"riscv_vector.h\"\n",
    "    int main(){{\n",
    "        {}{}{}\n",
    "        return 0;\n",
    "    }}\n",
    "    ''')\n",
    "print(C_TEMPLATE.format(str_declare,str_context,func))"
   ]
  },
  {
   "cell_type": "code",
   "execution_count": null,
   "id": "6ed091b7",
   "metadata": {},
   "outputs": [],
   "source": []
  }
 ],
 "metadata": {
  "kernelspec": {
   "display_name": "Python 3",
   "language": "python",
   "name": "python3"
  },
  "language_info": {
   "codemirror_mode": {
    "name": "ipython",
    "version": 3
   },
   "file_extension": ".py",
   "mimetype": "text/x-python",
   "name": "python",
   "nbconvert_exporter": "python",
   "pygments_lexer": "ipython3",
   "version": "3.6.9"
  }
 },
 "nbformat": 4,
 "nbformat_minor": 5
}
